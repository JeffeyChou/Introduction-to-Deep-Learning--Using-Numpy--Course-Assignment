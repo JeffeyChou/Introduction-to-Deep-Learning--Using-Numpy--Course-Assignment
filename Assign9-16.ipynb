{
 "cells": [
  {
   "cell_type": "markdown",
   "metadata": {},
   "source": [
    "# Assignment 9-16: Implementing a Neural Network from scratch using Python and NumPy\n",
    "\n",
    "2021060904008 - 周杰锋"
   ]
  },
  {
   "cell_type": "markdown",
   "metadata": {},
   "source": [
    "## 9 设计MLP解决 多分类问题 (from scratch)"
   ]
  },
  {
   "cell_type": "code",
   "execution_count": 1,
   "metadata": {},
   "outputs": [],
   "source": [
    "import numpy as np\n",
    "import matplotlib.pyplot as plt\n",
    "\n",
    "# Generate data\n",
    "\n",
    "NUM_1 = np.array([[0,1,1,0,0],[0,0,1,0,0], [0,0,1,0,0], [0,0,1,0,0],[0,1,1,1,0]])\n",
    "NUM_2 = np.array([[1,1,1,1,0], [0,0,0,0,1],[0,1,1,1,0],[1,0,0,0,0],[1,1,1,1,1]])\n",
    "NUM_3 = np.array([[1,1,1,1,0],[0,0,0,0,1],[0,1,1,1,0],[0,0,0,0,1],[1,1,1,1,0]])\n",
    "NUM_4 = np.array([[0,0,0,1,0],[0,0,1,1,0],[0,1,0,1,0],[1,1,1,1,1],[0,0,0,1,0]])\n",
    "NUM_5 = np.array([[1,1,1,1,1],[1,0,0,0,0],[1,1,1,1,0],[0,0,0,0,1],[1,1,1,1,0]])\n",
    "\n",
    "X_train = np.array([NUM_1, NUM_2, NUM_3, NUM_4, NUM_5]).reshape(5,-1)\n",
    "\n",
    "Y_train = np.array([[1,0,0,0,0],[0,1,0,0,0],[0,0,1,0,0],[0,0,0,1,0],[0,0,0,0,1]])\n",
    "\n",
    "class MLP:\n",
    "    def __init__(self, in_hidden_out:list, if_bias=False, seed=None):\n",
    "        self.input_size = in_hidden_out[0]\n",
    "        self.output_size = in_hidden_out[-1]\n",
    "        self.hidden_layers = len(in_hidden_out) - 2\n",
    "        self.in_hidden_out = in_hidden_out\n",
    "        self.if_bias = if_bias\n",
    "        self.seed = seed\n",
    "        self.weights = []\n",
    "        self.biases = []\n",
    "        self.loss = []\n",
    "        self.activations = []\n",
    "        self.num_classes = in_hidden_out[-1]\n",
    "\n",
    "\n",
    "        self.initialize_weights_and_biases()\n",
    "\n",
    "    def sigmoid(self, x):\n",
    "        return 1 / (1 + np.exp(-x))\n",
    "\n",
    "    def sigmoid_derivative(self, x):\n",
    "        return x * (1 - x)\n",
    "    \n",
    "    \n",
    "    def corss_entropy(self, y_pred, y_true):\n",
    "        return -np.mean(y_true * np.log(y_pred) + (1 - y_true) * np.log(1 - y_pred))\n",
    "    \n",
    "\n",
    "    def MSD(self, y_pred, y_true):\n",
    "        return np.mean((y_pred - y_true)**2)\n",
    "\n",
    "    \n",
    "    def softmax(self, x):\n",
    "        exp_x = np.exp(x - np.max(x, axis=1, keepdims=True))\n",
    "        return exp_x / exp_x.sum(axis=1, keepdims=True)\n",
    "\n",
    "\n",
    "    def initialize_weights_and_biases(self):\n",
    "        if self.seed:\n",
    "            np.random.seed(self.seed)\n",
    "        for i in range(self.hidden_layers + 1):\n",
    "            self.weights.append(np.random.rand(self.in_hidden_out[i], self.in_hidden_out[i+1]) * 2 -1)\n",
    "            if self.if_bias:\n",
    "                self.biases.append(np.random.rand((1, self.in_hidden_out[i+1]))*2 -1)\n",
    "            else:\n",
    "                self.biases.append(np.zeros((1, self.in_hidden_out[i+1])))\n",
    "\n",
    "    def forward(self, X):\n",
    "        self.activations = [X]\n",
    "        for i in range(self.hidden_layers + 1):\n",
    "            z = np.dot(self.activations[-1], self.weights[i]) + self.biases[i]\n",
    "            a = self.sigmoid(z)\n",
    "            self.activations.append(a)\n",
    "        # softmax output layer\n",
    "        self.activations[-1] = self.softmax(self.activations[-1])\n",
    "        return self.activations[-1]\n",
    "\n",
    "    def backward(self, X, y, learning_rate):\n",
    "        _ = self.forward(X)\n",
    "        error = y - self.activations[-1]\n",
    "\n",
    "        self.loss.append(self.corss_entropy(self.activations[-1], y))\n",
    "\n",
    "        delta = error\n",
    "        self.weights[-1] += learning_rate * np.dot(self.activations[-2].T, delta)\n",
    "        if self.if_bias:\n",
    "            self.biases[-1] += learning_rate * np.sum(delta, axis=0, keepdims=True)\n",
    "\n",
    "        for i in range(self.hidden_layers, 0, -1):\n",
    "            delta = np.dot(delta, self.weights[i].T) * self.sigmoid_derivative(self.activations[i])\n",
    "            self.weights[i-1] += learning_rate * np.dot(self.activations[i-1].T, delta)\n",
    "            if self.if_bias:\n",
    "                self.biases[i-1] += learning_rate * np.sum(delta, axis=0, keepdims=True)\n",
    "\n",
    "    def train(self, X, y, epochs, learning_rate):\n",
    "        for _ in range(epochs):\n",
    "            self.backward(X, y, learning_rate)\n",
    "\n",
    "\n",
    "    def plot_loss(self):\n",
    "        plt.plot(self.loss)\n",
    "        plt.xlabel(\"Epochs\")\n",
    "        plt.ylabel(\"Loss\")\n",
    "        plt.show()"
   ]
  },
  {
   "cell_type": "code",
   "execution_count": 2,
   "metadata": {},
   "outputs": [
    {
     "name": "stdout",
     "output_type": "stream",
     "text": [
      "[[0 1 1 0 0 0 0 1 0 0 0 0 1 0 0 0 0 1 0 0 0 1 1 1 0]\n",
      " [1 1 1 1 0 0 0 0 0 1 0 1 1 1 0 1 0 0 0 0 1 1 1 1 1]\n",
      " [1 1 1 1 0 0 0 0 0 1 0 1 1 1 0 0 0 0 0 1 1 1 1 1 0]\n",
      " [0 0 0 1 0 0 0 1 1 0 0 1 0 1 0 1 1 1 1 1 0 0 0 1 0]\n",
      " [1 1 1 1 1 1 0 0 0 0 1 1 1 1 0 0 0 0 0 1 1 1 1 1 0]]\n"
     ]
    }
   ],
   "source": [
    "print(X_train)"
   ]
  },
  {
   "cell_type": "code",
   "execution_count": 5,
   "metadata": {},
   "outputs": [
    {
     "name": "stdout",
     "output_type": "stream",
     "text": [
      "===== \t MLPClassifier Before Training \t =====\n",
      "[[0.13576873 0.15054844 0.30537435 0.13913304 0.26917545]\n",
      " [0.24646851 0.13339557 0.24173507 0.13147015 0.2469307 ]\n",
      " [0.25361505 0.1355886  0.22477188 0.12258736 0.2634371 ]\n",
      " [0.15586516 0.13997985 0.2789299  0.12738248 0.2978426 ]\n",
      " [0.22685594 0.14534138 0.25131373 0.12073819 0.25575077]]\n",
      "===== \t MLPClassifier After Training \t =====\n",
      "[[0.40460968 0.14884758 0.14884758 0.14884758 0.14884758]\n",
      " [0.14596971 0.3967701  0.16533306 0.14596356 0.14596356]\n",
      " [0.12435813 0.15426087 0.33804044 0.12435813 0.25898243]\n",
      " [0.14884758 0.14884758 0.14884758 0.40460968 0.14884758]\n",
      " [0.13878774 0.13878774 0.20637258 0.13878774 0.37726419]]\n",
      "===== \t Groud Truth \t =====\n",
      "[[1 0 0 0 0]\n",
      " [0 1 0 0 0]\n",
      " [0 0 1 0 0]\n",
      " [0 0 0 1 0]\n",
      " [0 0 0 0 1]]\n"
     ]
    },
    {
     "data": {
      "image/png": "[encoded data removed]",
      "text/plain": [
       "<Figure size 432x288 with 1 Axes>"
      ]
     },
     "metadata": {
      "needs_background": "light"
     },
     "output_type": "display_data"
    }
   ],
   "source": [
    "MLPClassifier = MLP([5*5, 50, 5], seed=42)\n",
    "print(\"===== \\t MLPClassifier Before Training \\t =====\")\n",
    "print(MLPClassifier.forward(X_train))\n",
    "MLPClassifier.train(X_train, Y_train, epochs=3000, learning_rate=0.01)\n",
    "print(\"===== \\t MLPClassifier After Training \\t =====\")\n",
    "print(MLPClassifier.forward(X_train))\n",
    "print(\"===== \\t Groud Truth \\t =====\")\n",
    "print(Y_train)\n",
    "MLPClassifier.plot_loss()"
   ]
  },
  {
   "cell_type": "markdown",
   "metadata": {},
   "source": [
    "## 10 用训练数据训练网络，用测试数据测试训练结果\n",
    "（注：运行多次观察结果是否变化思考原因）\n",
    "\n",
    "不变化（因为里面的权值已经固定了，所以每次运行的结果都是一样的）"
   ]
  },
  {
   "cell_type": "code",
   "execution_count": 48,
   "metadata": {},
   "outputs": [
    {
     "name": "stdout",
     "output_type": "stream",
     "text": [
      "[[0.32220249 0.11853167 0.11853167 0.32220249 0.11853167]\n",
      " [0.11853167 0.32220249 0.32220249 0.11853167 0.11853167]\n",
      " [0.11853166 0.32220247 0.32220247 0.11853166 0.11853174]\n",
      " [0.32228694 0.1194896  0.32109667 0.11856274 0.11856406]\n",
      " [0.26793449 0.09859097 0.26688554 0.09859096 0.26799803]]\n",
      "===== \t Groud Truth \t =====\n",
      "[[1 0 0 0 0]\n",
      " [0 0 1 0 0]\n",
      " [0 0 1 0 0]\n",
      " [0 0 0 0 1]\n",
      " [0 0 0 0 1]]\n"
     ]
    }
   ],
   "source": [
    "TEST_NUM_1 = np.array([[0,0,1,1,0],[0,0,1,1,0],[0,1,0,1,0],[0,0,0,1,0],[0,1,1,1,0]])\n",
    "TEST_NUM_2 = np.array([[1,1,1,1,0],[0,0,0,0,1],[0,1,1,1,0],[1,0,0,0,1],[1,1,1,1,1]])\n",
    "TEST_NUM_3 = np.array([[1,1,1,1,0],[0,0,0,0,1],[0,1,1,1,0],[1,0,0,0,1],[1,1,1,1,0]])\n",
    "TEST_NUM_4 = np.array([[0,1,1,1,0],[0,1,0,0,0],[0,1,1,1,0],[0,0,0,1,0],[0,1,1,1,0]])\n",
    "TEST_NUM_5 = np.array([[0,1,1,1,1],[0,1,0,0,0],[0,1,1,1,0],[0,0,0,1,0],[1,1,1,1,0]])\n",
    "\n",
    "TEST_X = np.array([TEST_NUM_1, TEST_NUM_2, TEST_NUM_3, TEST_NUM_4, TEST_NUM_5]).reshape(5,-1)\n",
    "\n",
    "TEST_Y = np.array([[1,0,0,0,0],[0,0,1,0,0],[0,0,1,0,0],[0,0,0,0,1],[0,0,0,0,1]])\n",
    "\n",
    "print(MLPClassifier.forward(TEST_X))\n",
    "print(\"===== \\t Groud Truth \\t =====\")\n",
    "print(TEST_Y)"
   ]
  },
  {
   "cell_type": "markdown",
   "metadata": {},
   "source": [
    "## 11 构建其它测试数据构建"
   ]
  },
  {
   "cell_type": "code",
   "execution_count": 49,
   "metadata": {},
   "outputs": [
    {
     "name": "stdout",
     "output_type": "stream",
     "text": [
      "[[0.32220249 0.11853167 0.11853167 0.32220249 0.11853167]\n",
      " [0.11853167 0.32220249 0.32220249 0.11853167 0.11853167]\n",
      " [0.11853166 0.32220247 0.32220247 0.11853166 0.11853174]\n",
      " [0.32228694 0.1194896  0.32109667 0.11856274 0.11856406]\n",
      " [0.26793449 0.09859097 0.26688554 0.09859096 0.26799803]]\n",
      "===== \t Groud Truth \t =====\n",
      "[[1 0 0 0 0]\n",
      " [0 1 0 0 0]\n",
      " [0 0 1 0 0]\n",
      " [0 0 0 1 0]\n",
      " [0 0 0 0 1]]\n"
     ]
    }
   ],
   "source": [
    "N_TEST_NUM_1 = np.array([[0,0,0,1,0],[0,0,1,1,0],[0,1,0,1,0],[0,0,0,1,0],[0,0,0,1,0]])\n",
    "N_TEST_NUM_2 = np.array([[0,1,1,1,0],[0,0,0,0,1],[0,1,1,1,0],[1,0,0,0,0],[1,1,1,0,0]])\n",
    "N_TEST_NUM_3 = np.array([[0,1,1,1,0],[0,0,0,0,1],[0,1,1,1,0],[0,0,0,0,1],[0,1,1,1,0]])\n",
    "N_TEST_NUM_4 = np.array([[0,0,0,1,0],[0,0,1,1,0],[0,1,0,1,0],[0,1,1,1,0],[0,0,0,1,0]])\n",
    "N_TEST_NUM_5 = np.array([[0,1,1,1,0],[0,1,0,0,0],[0,1,1,1,0],[0,0,0,1,0],[0,1,1,1,0]])\n",
    "\n",
    "N_TEST_X = np.array([TEST_NUM_1, TEST_NUM_2, TEST_NUM_3, TEST_NUM_4, TEST_NUM_5]).reshape(5,-1)\n",
    "\n",
    "N_TEST_Y = np.array([[1,0,0,0,0],[0,1,0,0,0],[0,0,1,0,0],[0,0,0,1,0],[0,0,0,0,1]])\n",
    "\n",
    "print(MLPClassifier.forward(N_TEST_X))\n",
    "print(\"===== \\t Groud Truth \\t =====\")\n",
    "print(N_TEST_Y)"
   ]
  },
  {
   "cell_type": "markdown",
   "metadata": {},
   "source": [
    "## 12  练习12：补全上述代码，观察训练结果是否有效。\n"
   ]
  },
  {
   "cell_type": "code",
   "execution_count": 3,
   "metadata": {},
   "outputs": [],
   "source": [
    "class MLP_with_RELU:\n",
    "    def __init__(self, in_hidden_out:list, if_bias=False, seed=None):\n",
    "        self.input_size = in_hidden_out[0]\n",
    "        self.output_size = in_hidden_out[-1]\n",
    "        self.hidden_layers = len(in_hidden_out) - 2\n",
    "        self.in_hidden_out = in_hidden_out\n",
    "        self.if_bias = if_bias\n",
    "        self.seed = seed\n",
    "        self.weights = []\n",
    "        self.biases = []\n",
    "        self.loss = []\n",
    "        self.activations = []\n",
    "        self.num_classes = in_hidden_out[-1]\n",
    "\n",
    "\n",
    "        self.initialize_weights_and_biases()\n",
    "\n",
    "    def sigmoid(self, x):\n",
    "        return 1 / (1 + np.exp(-x))\n",
    "\n",
    "    def sigmoid_derivative(self, x):\n",
    "        return x * (1 - x)\n",
    "    \n",
    "    \n",
    "    def corss_entropy(self, y_pred, y_true):\n",
    "        return -np.mean(y_true * np.log(y_pred) + (1 - y_true) * np.log(1 - y_pred))\n",
    "    \n",
    "\n",
    "    def MSD(self, y_pred, y_true):\n",
    "        return np.mean((y_pred - y_true)**2)\n",
    "    \n",
    "\n",
    "    def ReLU(self, x):\n",
    "        return np.maximum(0, x)\n",
    "\n",
    "    \n",
    "    def softmax(self, x):\n",
    "        exp_x = np.exp(x - np.max(x, axis=1, keepdims=True))\n",
    "        return exp_x / exp_x.sum(axis=1, keepdims=True)\n",
    "\n",
    "\n",
    "    def initialize_weights_and_biases(self):\n",
    "        if self.seed:\n",
    "            np.random.seed(self.seed)\n",
    "        for i in range(self.hidden_layers + 1):\n",
    "            self.weights.append(np.random.rand(self.in_hidden_out[i], self.in_hidden_out[i+1]) * 2 -1)\n",
    "            if self.if_bias:\n",
    "                self.biases.append(np.random.rand((1, self.in_hidden_out[i+1]))*2 -1)\n",
    "            else:\n",
    "                self.biases.append(np.zeros((1, self.in_hidden_out[i+1])))\n",
    "\n",
    "    def forward(self, X):\n",
    "        self.activations = [X]\n",
    "        for i in range(self.hidden_layers + 1):\n",
    "            z = np.dot(self.activations[-1], self.weights[i]) + self.biases[i]\n",
    "            # a = self.sigmoid(z)\n",
    "            a = self.ReLU(z)\n",
    "            self.activations.append(a)\n",
    "        # softmax output layer\n",
    "        self.activations[-1] = self.softmax(self.activations[-1])\n",
    "        return self.activations[-1]\n",
    "\n",
    "    def backward(self, X, y, learning_rate):\n",
    "        _ = self.forward(X)\n",
    "        error = y - self.activations[-1]\n",
    "\n",
    "        self.loss.append(self.corss_entropy(self.activations[-1], y))\n",
    "\n",
    "        delta = error\n",
    "        self.weights[-1] += learning_rate * np.dot(self.activations[-2].T, delta)\n",
    "        if self.if_bias:\n",
    "            self.biases[-1] += learning_rate * np.sum(delta, axis=0, keepdims=True)\n",
    "\n",
    "        for i in range(self.hidden_layers, 0, -1):\n",
    "            # delta = np.dot(delta, self.weights[i].T) * self.sigmoid_derivative(self.activations[i])\n",
    "            delta = np.dot(delta, self.weights[i].T) * self.ReLU(self.activations[i]).astype(int)\n",
    "            self.weights[i-1] += learning_rate * np.dot(self.activations[i-1].T, delta)\n",
    "            if self.if_bias:\n",
    "                self.biases[i-1] += learning_rate * np.sum(delta, axis=0, keepdims=True)\n",
    "\n",
    "    def train(self, X, y, epochs, learning_rate):\n",
    "        for _ in range(epochs):\n",
    "            self.backward(X, y, learning_rate)\n",
    "\n",
    "\n",
    "    def plot_loss(self):\n",
    "        plt.plot(self.loss)\n",
    "        plt.xlabel(\"Epochs\")\n",
    "        plt.ylabel(\"Loss\")\n",
    "        plt.show()"
   ]
  },
  {
   "cell_type": "code",
   "execution_count": 4,
   "metadata": {},
   "outputs": [
    {
     "name": "stdout",
     "output_type": "stream",
     "text": [
      "===== \t MLPClassifier Before Training \t =====\n",
      "[[0.058592   0.058592   0.765632   0.058592   0.058592  ]\n",
      " [0.32502647 0.06552917 0.47838603 0.06552917 0.06552917]\n",
      " [0.22597745 0.09490868 0.44370421 0.09490868 0.14050098]\n",
      " [0.00689348 0.00689348 0.56355274 0.00689348 0.41576682]\n",
      " [0.13747229 0.13747229 0.45011086 0.13747229 0.13747229]]\n",
      "===== \t MLPClassifier After Training \t =====\n",
      "[[9.99794348e-01 1.92287439e-05 1.47965399e-04 1.92287439e-05\n",
      "  1.92287439e-05]\n",
      " [1.06277579e-05 9.99649717e-01 3.18399248e-04 1.06277579e-05\n",
      "  1.06277579e-05]\n",
      " [4.82666689e-05 2.88007531e-04 9.99441320e-01 3.32516753e-05\n",
      "  1.89154615e-04]\n",
      " [3.15360477e-05 3.15360477e-05 3.15360477e-05 9.99873856e-01\n",
      "  3.15360477e-05]\n",
      " [3.12507061e-05 3.12507061e-05 1.30000314e-04 3.12507061e-05\n",
      "  9.99776248e-01]]\n",
      "===== \t Groud Truth \t =====\n",
      "[[1 0 0 0 0]\n",
      " [0 1 0 0 0]\n",
      " [0 0 1 0 0]\n",
      " [0 0 0 1 0]\n",
      " [0 0 0 0 1]]\n"
     ]
    },
    {
     "data": {
      "image/png": "[encoded data removed]",
      "text/plain": [
       "<Figure size 432x288 with 1 Axes>"
      ]
     },
     "metadata": {
      "needs_background": "light"
     },
     "output_type": "display_data"
    }
   ],
   "source": [
    "ReLU_MLP = MLP_with_RELU([25, 50, 5], seed=42)\n",
    "print(\"===== \\t MLPClassifier Before Training \\t =====\")\n",
    "print(ReLU_MLP.forward(X_train))\n",
    "ReLU_MLP.train(X_train, Y_train, epochs=3000, learning_rate=0.01)\n",
    "print(\"===== \\t MLPClassifier After Training \\t =====\")\n",
    "print(ReLU_MLP.forward(X_train))\n",
    "print(\"===== \\t Groud Truth \\t =====\")\n",
    "print(Y_train)\n",
    "ReLU_MLP.plot_loss()"
   ]
  },
  {
   "cell_type": "markdown",
   "metadata": {},
   "source": [
    "## 练习13：重复运行多次主函数，观察训练结果是否有差异？思考其中原因和改善方法\n",
    "\n",
    "\n",
    "这里不理解老师所说的重复运行多次主函数什么意思，给定了网络和随机数种子，以及指定数据集，训练的结果就应该是固定的。\n",
    "\n",
    "所以不明白差异体现在哪里。\n",
    "\n",
    "这里是指Sigmoid函数 vs ReLU 函数的区别吗？\n",
    "\n",
    "ReLU比Sigmoid的优点是它能解决梯度消失问题，以及计算效率高，ReLU在正区间上是线性的，因此训练速度较快"
   ]
  },
  {
   "cell_type": "markdown",
   "metadata": {},
   "source": [
    "## 练习14：比较两种结构的优劣，结合本例比较两者的训练结果，并对结果进行分析。（提示：ReLU真的好吗？"
   ]
  },
  {
   "cell_type": "code",
   "execution_count": 7,
   "metadata": {},
   "outputs": [
    {
     "name": "stdout",
     "output_type": "stream",
     "text": [
      "===== \t MLP_ReLU Training \t =====\n",
      "[[9.9979435e-01 1.9230000e-05 1.4797000e-04 1.9230000e-05 1.9230000e-05]\n",
      " [1.0630000e-05 9.9964972e-01 3.1840000e-04 1.0630000e-05 1.0630000e-05]\n",
      " [4.8270000e-05 2.8801000e-04 9.9944132e-01 3.3250000e-05 1.8915000e-04]\n",
      " [3.1540000e-05 3.1540000e-05 3.1540000e-05 9.9987386e-01 3.1540000e-05]\n",
      " [3.1250000e-05 3.1250000e-05 1.3000000e-04 3.1250000e-05 9.9977625e-01]]\n",
      "===== \t MLP Training \t =====\n",
      "[[0.40460968 0.14884758 0.14884758 0.14884758 0.14884758]\n",
      " [0.14596971 0.3967701  0.16533306 0.14596356 0.14596356]\n",
      " [0.12435813 0.15426087 0.33804044 0.12435813 0.25898243]\n",
      " [0.14884758 0.14884758 0.14884758 0.40460968 0.14884758]\n",
      " [0.13878774 0.13878774 0.20637258 0.13878774 0.37726419]]\n",
      "===== \t Groud Truth \t =====\n",
      "[[1 0 0 0 0]\n",
      " [0 1 0 0 0]\n",
      " [0 0 1 0 0]\n",
      " [0 0 0 1 0]\n",
      " [0 0 0 0 1]]\n"
     ]
    }
   ],
   "source": [
    "print(\"===== \\t MLP_ReLU Training \\t =====\")\n",
    "print(np.round(ReLU_MLP.forward(X_train), 8))\n",
    "print(\"===== \\t MLP Training \\t =====\")\n",
    "print(MLPClassifier.forward(X_train))\n",
    "print(\"===== \\t Groud Truth \\t =====\")\n",
    "print(Y_train)"
   ]
  },
  {
   "cell_type": "markdown",
   "metadata": {},
   "source": [
    "在本例的结果来看，ReLU比Sigmoid更好地拟合了数据，并且在训练集和测试集上的表现都很好。\n",
    "\n",
    "但是ReLU也有死亡问题，即在某些情况下，ReLU的梯度会变成0，导致网络无法学习到有效的特征。因此，在实际使用中，我们通常会使用LeakyReLU或ELU等激活函数。"
   ]
  },
  {
   "cell_type": "markdown",
   "metadata": {},
   "source": [
    "## 15 补全Dropout相关代码，得到训练结果 \n",
    "## 16 Dropout+ReLU如何实现?\n",
    "\n",
    "这里我两个一起实现了"
   ]
  },
  {
   "cell_type": "code",
   "execution_count": 8,
   "metadata": {},
   "outputs": [],
   "source": [
    "class MLP_with_ReLU_Dropout(object):\n",
    "    def __init__(self, in_hidden_out:list, if_bias=False, seed=None, dropout_rate=0.5):\n",
    "        self.input_size = in_hidden_out[0]\n",
    "        self.output_size = in_hidden_out[-1]\n",
    "        self.hidden_layers = len(in_hidden_out) - 2\n",
    "        self.in_hidden_out = in_hidden_out\n",
    "        self.if_bias = if_bias\n",
    "        self.seed = seed\n",
    "        self.weights = []\n",
    "        self.biases = []\n",
    "        self.loss = []\n",
    "        self.activations = []\n",
    "        self.num_classes = in_hidden_out[-1]\n",
    "        self.dropout_rate = dropout_rate\n",
    "\n",
    "\n",
    "        self.initialize_weights_and_biases()\n",
    "\n",
    "    def sigmoid(self, x):\n",
    "        return 1 / (1 + np.exp(-x))\n",
    "\n",
    "    def sigmoid_derivative(self, x):\n",
    "        return x * (1 - x)\n",
    "    \n",
    "    \n",
    "    def corss_entropy(self, y_pred, y_true):\n",
    "        return -np.mean(y_true * np.log(y_pred) + (1 - y_true) * np.log(1 - y_pred))\n",
    "    \n",
    "\n",
    "    def MSD(self, y_pred, y_true):\n",
    "        return np.mean((y_pred - y_true)**2)\n",
    "    \n",
    "\n",
    "    def ReLU(self, x):\n",
    "        return np.maximum(0, x)\n",
    "    \n",
    "\n",
    "    def Dropout(self, x, p=0.5):\n",
    "        mask = np.random.rand(*x.shape) < p\n",
    "        return x * mask / p\n",
    "\n",
    "    \n",
    "    def softmax(self, x):\n",
    "        exp_x = np.exp(x - np.max(x, axis=1, keepdims=True))\n",
    "        return exp_x / exp_x.sum(axis=1, keepdims=True)\n",
    "\n",
    "\n",
    "    def initialize_weights_and_biases(self):\n",
    "        if self.seed:\n",
    "            np.random.seed(self.seed)\n",
    "        for i in range(self.hidden_layers + 1):\n",
    "            self.weights.append(np.random.rand(self.in_hidden_out[i], self.in_hidden_out[i+1]) * 2 -1)\n",
    "            if self.if_bias:\n",
    "                self.biases.append(np.random.rand((1, self.in_hidden_out[i+1]))*2 -1)\n",
    "            else:\n",
    "                self.biases.append(np.zeros((1, self.in_hidden_out[i+1])))\n",
    "\n",
    "    def forward(self, X):\n",
    "        self.activations = [X]\n",
    "        for i in range(self.hidden_layers + 1):\n",
    "            z = np.dot(self.activations[-1], self.weights[i]) + self.biases[i]\n",
    "            # a = self.sigmoid(z)\n",
    "            a = self.ReLU(z)\n",
    "            a = self.Dropout(a, self.dropout_rate)  # dropout forward pass\n",
    "            self.activations.append(a)\n",
    "        # softmax output layer\n",
    "        self.activations[-1] = self.softmax(self.activations[-1])\n",
    "        return self.activations[-1]\n",
    "\n",
    "    def backward(self, X, y, learning_rate):\n",
    "        _ = self.forward(X)\n",
    "        error = y - self.activations[-1]\n",
    "\n",
    "        self.loss.append(self.corss_entropy(self.activations[-1], y))\n",
    "\n",
    "        delta = error\n",
    "        self.weights[-1] += learning_rate * np.dot(self.activations[-2].T, delta)\n",
    "        if self.if_bias:\n",
    "            self.biases[-1] += learning_rate * np.sum(delta, axis=0, keepdims=True)\n",
    "\n",
    "        for i in range(self.hidden_layers, 0, -1):\n",
    "            # delta = np.dot(delta, self.weights[i].T) * self.sigmoid_derivative(self.activations[i])\n",
    "            delta = np.dot(delta, self.weights[i].T) * self.ReLU(self.activations[i]).astype(int)\n",
    "            delta = self.Dropout(delta, self.dropout_rate) # dropout backward pass\n",
    "            self.weights[i-1] += learning_rate * np.dot(self.activations[i-1].T, delta)\n",
    "            if self.if_bias:\n",
    "                self.biases[i-1] += learning_rate * np.sum(delta, axis=0, keepdims=True)\n",
    "\n",
    "    def train(self, X, y, epochs, learning_rate):\n",
    "        for _ in range(epochs):\n",
    "            self.backward(X, y, learning_rate)\n",
    "\n",
    "\n",
    "    def plot_loss(self):\n",
    "        plt.plot(self.loss)\n",
    "        plt.xlabel(\"Epochs\")\n",
    "        plt.ylabel(\"Loss\")\n",
    "        plt.show()"
   ]
  },
  {
   "cell_type": "code",
   "execution_count": 11,
   "metadata": {},
   "outputs": [
    {
     "name": "stdout",
     "output_type": "stream",
     "text": [
      "===== \t MLPClassifier Before Training \t =====\n",
      "[[0.2   0.2   0.2   0.2   0.2  ]\n",
      " [0.2   0.2   0.2   0.2   0.2  ]\n",
      " [0.    0.    0.    0.912 0.088]\n",
      " [0.2   0.2   0.2   0.2   0.2  ]\n",
      " [0.004 0.004 0.984 0.004 0.004]]\n"
     ]
    },
    {
     "name": "stderr",
     "output_type": "stream",
     "text": [
      "C:\\Users\\Jeffey\\AppData\\Local\\Temp/ipykernel_62760/3996595683.py:27: RuntimeWarning: divide by zero encountered in log\n",
      "  return -np.mean(y_true * np.log(y_pred) + (1 - y_true) * np.log(1 - y_pred))\n",
      "C:\\Users\\Jeffey\\AppData\\Local\\Temp/ipykernel_62760/3996595683.py:27: RuntimeWarning: invalid value encountered in multiply\n",
      "  return -np.mean(y_true * np.log(y_pred) + (1 - y_true) * np.log(1 - y_pred))\n"
     ]
    },
    {
     "name": "stdout",
     "output_type": "stream",
     "text": [
      "===== \t MLPClassifier After Training \t =====\n",
      "[[0.997 0.001 0.001 0.001 0.001]\n",
      " [0.545 0.114 0.114 0.114 0.114]\n",
      " [0.003 0.003 0.99  0.003 0.003]\n",
      " [0.2   0.2   0.2   0.2   0.2  ]\n",
      " [0.    0.    0.001 0.    0.997]]\n",
      "===== \t Groud Truth \t =====\n",
      "[[1 0 0 0 0]\n",
      " [0 1 0 0 0]\n",
      " [0 0 1 0 0]\n",
      " [0 0 0 1 0]\n",
      " [0 0 0 0 1]]\n"
     ]
    },
    {
     "data": {
      "image/png": "[encoded data removed]",
      "text/plain": [
       "<Figure size 432x288 with 1 Axes>"
      ]
     },
     "metadata": {
      "needs_background": "light"
     },
     "output_type": "display_data"
    }
   ],
   "source": [
    "ReLU_Dropout_MLP = MLP_with_ReLU_Dropout([25, 50, 5], dropout_rate=0.5)\n",
    "print(\"===== \\t MLPClassifier Before Training \\t =====\")\n",
    "print(np.round(ReLU_Dropout_MLP.forward(X_train),3))\n",
    "ReLU_Dropout_MLP.train(X_train, Y_train, epochs=3000, learning_rate=0.01)\n",
    "print(\"===== \\t MLPClassifier After Training \\t =====\")\n",
    "print(np.round(ReLU_Dropout_MLP.forward(X_train),3))\n",
    "print(\"===== \\t Groud Truth \\t =====\")\n",
    "print(Y_train)\n",
    "ReLU_Dropout_MLP.plot_loss()"
   ]
  }
 ],
 "metadata": {
  "kernelspec": {
   "display_name": "base",
   "language": "python",
   "name": "python3"
  },
  "language_info": {
   "codemirror_mode": {
    "name": "ipython",
    "version": 3
   },
   "file_extension": ".py",
   "mimetype": "text/x-python",
   "name": "python",
   "nbconvert_exporter": "python",
   "pygments_lexer": "ipython3",
   "version": "3.9.7"
  }
 },
 "nbformat": 4,
 "nbformat_minor": 2
}
