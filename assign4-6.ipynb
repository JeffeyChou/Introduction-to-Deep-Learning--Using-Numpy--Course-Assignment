{
 "cells": [
  {
   "cell_type": "markdown",
   "metadata": {},
   "source": [
    "# 练习4\n",
    "\n",
    "训练浅层NN解决XOR问题\n",
    "\n",
    "训练数据:\n",
    "\n",
    "{0,0,1, 0}\n",
    "{0,1,1, 1}\n",
    "{1,0,1, 1}\n",
    "{1,1,1, 0}\n"
   ]
  },
  {
   "cell_type": "code",
   "execution_count": 1,
   "metadata": {},
   "outputs": [],
   "source": [
    "import numpy as np\n",
    "import matplotlib.pyplot as plt\n",
    "np.random.seed(42)\n",
    "\n",
    "X_train = np.array([[0,0,1],[0,1,1], [1,0,1], [1,1,1]])\n",
    "\n",
    "Y_train = np.array([[0],[1],[1],[0]])\n",
    "\n",
    "\n",
    "class NN:\n",
    "    def __init__(self, in_hidden_out:list, if_bias=False):\n",
    "        self.input_size = in_hidden_out[0]\n",
    "        self.output_size = in_hidden_out[-1]\n",
    "        self.hidden_layers = len(in_hidden_out) - 2\n",
    "        self.in_hidden_out = in_hidden_out\n",
    "        self.if_bias = if_bias\n",
    "        self.weights = []\n",
    "        self.biases = []\n",
    "        self.loss = []\n",
    "        self.activations = []\n",
    "\n",
    "        # Initialize weights and biases\n",
    "        self.initialize_weights_and_biases()\n",
    "\n",
    "    def sigmoid(self, x):\n",
    "        return 1 / (1 + np.exp(-x))\n",
    "\n",
    "    def sigmoid_derivative(self, x):\n",
    "        return x * (1 - x)\n",
    "\n",
    "    def initialize_weights_and_biases(self):\n",
    "        for i in range(self.hidden_layers + 1):\n",
    "            self.weights.append(np.random.rand(self.in_hidden_out[i], self.in_hidden_out[i+1]) * 2 -1)\n",
    "            if self.if_bias:\n",
    "                self.biases.append(np.random.rand((1, self.in_hidden_out[i+1]))*2 -1)\n",
    "            else:\n",
    "                self.biases.append(np.zeros((1, self.in_hidden_out[i+1])))\n",
    "\n",
    "    def forward(self, X):\n",
    "        self.activations = [X]\n",
    "        for i in range(self.hidden_layers + 1):\n",
    "            z = np.dot(self.activations[-1], self.weights[i]) + self.biases[i]\n",
    "            a = self.sigmoid(z)\n",
    "            self.activations.append(a)\n",
    "        return self.activations[-1]\n",
    "\n",
    "    def backward(self, X, y, learning_rate):\n",
    "        _ = self.forward(X)   \n",
    "        error = y - self.activations[-1]\n",
    "        self.loss.append(np.mean(error ** 2))\n",
    "\n",
    "        delta = error * self.sigmoid_derivative(self.activations[-1])\n",
    "        self.weights[-1] += learning_rate * np.dot(self.activations[-2].T, delta)\n",
    "        if self.if_bias:\n",
    "            self.biases[-1] += learning_rate * np.sum(delta, axis=0, keepdims=True)\n",
    "\n",
    "        for i in range(self.hidden_layers, 0, -1):\n",
    "            delta = np.dot(delta, self.weights[i].T) * self.sigmoid_derivative(self.activations[i])\n",
    "            self.weights[i-1] += learning_rate * np.dot(self.activations[i-1].T, delta)\n",
    "            if self.if_bias:\n",
    "                self.biases[i-1] += learning_rate * np.sum(delta, axis=0, keepdims=True)\n",
    "\n",
    "    def train(self, X, y, epochs, learning_rate):\n",
    "        for _ in range(epochs):\n",
    "            self.backward(X, y, learning_rate)\n",
    "\n",
    "\n"
   ]
  },
  {
   "cell_type": "code",
   "execution_count": 36,
   "metadata": {},
   "outputs": [
    {
     "name": "stdout",
     "output_type": "stream",
     "text": [
      "[[0.35151934]\n",
      " [0.350779  ]\n",
      " [0.2994554 ]\n",
      " [0.30222388]]\n",
      "[[0.01977956]\n",
      " [0.9671274 ]\n",
      " [0.97083262]\n",
      " [0.03572509]]\n"
     ]
    }
   ],
   "source": [
    "NN_model_1 = NN([3,4,1])\n",
    "\n",
    "\n",
    "print(NN_model_1.forward(X_train))\n",
    "\n",
    "# print(NN_model_1.activations)\n",
    "# print((NN_model_1.weights[-2]))\n",
    "\n",
    "NN_model_1.train(X_train, Y_train, epochs=2000, learning_rate=0.9)\n",
    "\n",
    "print(NN_model_1.forward(X_train))"
   ]
  },
  {
   "cell_type": "markdown",
   "metadata": {},
   "source": [
    "从训练的结果来看，模型的输出结果已经开始收敛到目标值 Y_train，已经达到较好效果。"
   ]
  },
  {
   "cell_type": "markdown",
   "metadata": {},
   "source": [
    "# 练习5\n",
    "\n",
    "尝试改变隐层节点个数(3、5、2?)，观察能否解决XOR问题？如何避免不收敛？"
   ]
  },
  {
   "cell_type": "code",
   "execution_count": 40,
   "metadata": {},
   "outputs": [
    {
     "name": "stdout",
     "output_type": "stream",
     "text": [
      "=== | hidden layer size=3 | ===\n",
      "[[0.01455553]\n",
      " [0.95400736]\n",
      " [0.95551864]\n",
      " [0.05386896]]\n",
      "=== | hidden layer size=5 | ===\n",
      "[[0.0276844 ]\n",
      " [0.97142323]\n",
      " [0.975299  ]\n",
      " [0.02476168]]\n",
      "=== | hidden layer size=2 | ===\n",
      "[[0.02822207]\n",
      " [0.96421735]\n",
      " [0.49864679]\n",
      " [0.50209081]]\n"
     ]
    }
   ],
   "source": [
    "for i in [3,5,2]:\n",
    "    NN_model = NN([3,i,1])\n",
    "    NN_model.train(X_train, Y_train, epochs=2000, learning_rate=0.9)\n",
    "    print(\"=== | hidden layer size={} | ===\".format(i))\n",
    "    print(NN_model.forward(X_train))"
   ]
  },
  {
   "cell_type": "markdown",
   "metadata": {},
   "source": [
    "从结果来看，当Hidden layer size 过小时，模型无法解决XOR问题，避免问题的一个方法为设计更深、更宽的网络，解决更复杂的问题。"
   ]
  },
  {
   "cell_type": "markdown",
   "metadata": {},
   "source": [
    "# 练习6\n",
    "\n",
    "用动量算法训练浅层NN求解XOR问题"
   ]
  },
  {
   "cell_type": "code",
   "execution_count": 2,
   "metadata": {},
   "outputs": [],
   "source": [
    "class NN_momentum:\n",
    "    def __init__(self, in_hidden_out:list, if_bias=False, momentum=0.9):\n",
    "        self.input_size = in_hidden_out[0]\n",
    "        self.output_size = in_hidden_out[-1]\n",
    "        self.hidden_layers = len(in_hidden_out) - 2\n",
    "        self.in_hidden_out = in_hidden_out\n",
    "        self.if_bias = if_bias\n",
    "        self.weights = []\n",
    "        self.biases = []\n",
    "        self.loss = []\n",
    "        self.activations = []\n",
    "        self.momentum = momentum\n",
    "\n",
    "        self.velocity_weights = []\n",
    "        self.velocity_biases = []\n",
    "\n",
    "\n",
    "        # Initialize weights and biases\n",
    "        self.initialize_weights_and_biases()\n",
    "\n",
    "    def sigmoid(self, x):\n",
    "        return 1 / (1 + np.exp(-x))\n",
    "\n",
    "    def sigmoid_derivative(self, x):\n",
    "        return x * (1 - x)\n",
    "\n",
    "    def initialize_weights_and_biases(self):\n",
    "        for i in range(self.hidden_layers + 1):\n",
    "            self.weights.append(np.random.rand(self.in_hidden_out[i], self.in_hidden_out[i+1]) * 2 -1)\n",
    "            if self.if_bias:\n",
    "                self.biases.append(np.random.rand((1, self.in_hidden_out[i+1]))*2 -1)\n",
    "            else:\n",
    "                self.biases.append(np.zeros((1, self.in_hidden_out[i+1])))\n",
    "\n",
    "    def forward(self, X):\n",
    "        self.activations = [X]\n",
    "        for i in range(self.hidden_layers + 1):\n",
    "            z = np.dot(self.activations[-1], self.weights[i]) + self.biases[i]\n",
    "            a = self.sigmoid(z)\n",
    "            self.activations.append(a)\n",
    "        return self.activations[-1]\n",
    "\n",
    "    def backward(self, X, y, learning_rate):\n",
    "        _ = self.forward(X)\n",
    "        error = y - self.activations[-1]\n",
    "        self.loss.append(np.mean(error ** 2))\n",
    "\n",
    "        delta = error * self.sigmoid_derivative(self.activations[-1])\n",
    "\n",
    "        # Update the velocities\n",
    "        updated_velocity_weights = [np.zeros_like(w) for w in self.weights]\n",
    "        updated_velocity_biases = [np.zeros_like(b) for b in self.biases]\n",
    "\n",
    "        # Update output layer weights and biases with momentum\n",
    "        updated_velocity_weights[-1] = (self.momentum * updated_velocity_weights[-1]) + (learning_rate * np.dot(self.activations[-2].T, delta))\n",
    "        self.weights[-1] += updated_velocity_weights[-1]\n",
    "        if self.if_bias:\n",
    "            updated_velocity_biases[-1] = (self.momentum * updated_velocity_biases[-1]) + (learning_rate * np.sum(delta, axis=0, keepdims=True))\n",
    "            self.biases[-1] += updated_velocity_biases[-1]\n",
    "\n",
    "        # Update hidden layers weights and biases with momentum\n",
    "        for i in range(self.hidden_layers, 0, -1):\n",
    "            delta = np.dot(delta, self.weights[i].T) * self.sigmoid_derivative(self.activations[i])\n",
    "            updated_velocity_weights[i-1] = (self.momentum * updated_velocity_weights[i-1]) + (learning_rate * np.dot(self.activations[i-1].T, delta))\n",
    "            self.weights[i-1] += updated_velocity_weights[i-1]\n",
    "            if self.if_bias:\n",
    "                updated_velocity_biases[i-1] = (self.momentum * updated_velocity_biases[i-1]) + (learning_rate * np.sum(delta, axis=0, keepdims=True))\n",
    "                self.biases[i-1] += updated_velocity_biases[i-1]\n",
    "\n",
    "        # Update the velocities for the next iteration\n",
    "        self.velocity_weights = updated_velocity_weights\n",
    "        self.velocity_biases = updated_velocity_biases\n",
    "\n",
    "\n",
    "    def train(self, X, y, epochs, learning_rate):\n",
    "        for _ in range(epochs):\n",
    "            self.backward(X, y, learning_rate)"
   ]
  },
  {
   "cell_type": "code",
   "execution_count": 3,
   "metadata": {},
   "outputs": [],
   "source": [
    "NN_model = NN_momentum([3,4,1])\n",
    "\n",
    "NN_model.train(X_train, Y_train, epochs=2000, learning_rate=0.9)"
   ]
  },
  {
   "cell_type": "code",
   "execution_count": 4,
   "metadata": {},
   "outputs": [
    {
     "name": "stdout",
     "output_type": "stream",
     "text": [
      "[[0.01977956]\n",
      " [0.9671274 ]\n",
      " [0.97083262]\n",
      " [0.03572509]]\n"
     ]
    }
   ],
   "source": [
    "print(NN_model.forward(X_train))"
   ]
  }
 ],
 "metadata": {
  "kernelspec": {
   "display_name": "base",
   "language": "python",
   "name": "python3"
  },
  "language_info": {
   "codemirror_mode": {
    "name": "ipython",
    "version": 3
   },
   "file_extension": ".py",
   "mimetype": "text/x-python",
   "name": "python",
   "nbconvert_exporter": "python",
   "pygments_lexer": "ipython3",
   "version": "3.9.7"
  }
 },
 "nbformat": 4,
 "nbformat_minor": 2
}
